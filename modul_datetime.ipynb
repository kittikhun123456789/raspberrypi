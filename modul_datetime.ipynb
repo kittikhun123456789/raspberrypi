{
  "nbformat": 4,
  "nbformat_minor": 0,
  "metadata": {
    "colab": {
      "provenance": [],
      "authorship_tag": "ABX9TyNoRQZK7CpM2JqfbKB3zsMf",
      "include_colab_link": true
    },
    "kernelspec": {
      "name": "python3",
      "display_name": "Python 3"
    },
    "language_info": {
      "name": "python"
    }
  },
  "cells": [
    {
      "cell_type": "markdown",
      "metadata": {
        "id": "view-in-github",
        "colab_type": "text"
      },
      "source": [
        "<a href=\"https://colab.research.google.com/github/kittikhun123456789/raspberrypi/blob/main/modul_datetime.ipynb\" target=\"_parent\"><img src=\"https://colab.research.google.com/assets/colab-badge.svg\" alt=\"Open In Colab\"/></a>"
      ]
    },
    {
      "cell_type": "code",
      "execution_count": null,
      "metadata": {
        "id": "Q95wX2LNDUA-"
      },
      "outputs": [],
      "source": [
        "import datetime\n",
        "\n",
        "# สร้างวันและเวลาปัจจุบัน\n",
        "now = datetime.datetime.now()\n",
        "\n",
        "# สร้างวันและเวลาเอง\n",
        "custom_datetime = datetime.datetime(2023, 8, 11, 14, 30)  # 11 สิงหาคม 2023 เวลา 14:30"
      ]
    },
    {
      "cell_type": "code",
      "source": [
        "print(custom_datetime)"
      ],
      "metadata": {
        "colab": {
          "base_uri": "https://localhost:8080/"
        },
        "id": "zNYJHxUjDamQ",
        "outputId": "d5cda570-755a-4cf5-9aac-d7415a3191cb"
      },
      "execution_count": null,
      "outputs": [
        {
          "output_type": "stream",
          "name": "stdout",
          "text": [
            "2023-08-11 14:30:00\n"
          ]
        }
      ]
    },
    {
      "cell_type": "code",
      "source": [
        "import datetime\n",
        "\n",
        "now = datetime.datetime.now()\n",
        "\n",
        "# เพิ่มเวลา 30 นาที\n",
        "future_datetime = now + datetime.timedelta(minutes=30)"
      ],
      "metadata": {
        "id": "YsIAc9gyDgAr"
      },
      "execution_count": null,
      "outputs": []
    },
    {
      "cell_type": "code",
      "source": [
        "print(future_datetime)"
      ],
      "metadata": {
        "colab": {
          "base_uri": "https://localhost:8080/"
        },
        "id": "aNjYAhgmDf4c",
        "outputId": "20910f4f-c659-4ef8-e2bd-256503b87886"
      },
      "execution_count": null,
      "outputs": [
        {
          "output_type": "stream",
          "name": "stdout",
          "text": [
            "2023-08-23 11:31:36.327487\n"
          ]
        }
      ]
    },
    {
      "cell_type": "code",
      "source": [
        "import datetime\n",
        "\n",
        "# แปลงข้อความเป็นวันและเวลา\n",
        "date_string = \"2023-08-11 14:30:00\"\n",
        "parsed_datetime = datetime.datetime.strptime(date_string, \"%Y-%m-%d %H:%M:%S\")"
      ],
      "metadata": {
        "id": "wWaTj0tNDf1v"
      },
      "execution_count": null,
      "outputs": []
    },
    {
      "cell_type": "code",
      "source": [
        "print(parsed_datetime)"
      ],
      "metadata": {
        "colab": {
          "base_uri": "https://localhost:8080/"
        },
        "id": "-GJczWVmDfm-",
        "outputId": "e3a8efe1-0466-4b3f-b4f2-06b5fc7706cd"
      },
      "execution_count": null,
      "outputs": [
        {
          "output_type": "stream",
          "name": "stdout",
          "text": [
            "2023-08-11 14:30:00\n"
          ]
        }
      ]
    }
  ]
}