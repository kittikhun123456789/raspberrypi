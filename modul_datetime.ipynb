{
  "nbformat": 4,
  "nbformat_minor": 0,
  "metadata": {
    "colab": {
      "provenance": [],
      "authorship_tag": "ABX9TyMx0FIGmnNpPHsfiyf3siKK",
      "include_colab_link": true
    },
    "kernelspec": {
      "name": "python3",
      "display_name": "Python 3"
    },
    "language_info": {
      "name": "python"
    }
  },
  "cells": [
    {
      "cell_type": "markdown",
      "metadata": {
        "id": "view-in-github",
        "colab_type": "text"
      },
      "source": [
        "<a href=\"https://colab.research.google.com/github/kittikhun123456789/raspberrypi/blob/main/modul_datetime.ipynb\" target=\"_parent\"><img src=\"https://colab.research.google.com/assets/colab-badge.svg\" alt=\"Open In Colab\"/></a>"
      ]
    },
    {
      "cell_type": "code",
      "execution_count": 2,
      "metadata": {
        "id": "Q95wX2LNDUA-"
      },
      "outputs": [],
      "source": [
        "import datetime\n",
        "\n",
        "# สร้างวันและเวลาปัจจุบัน\n",
        "now = datetime.datetime.now()\n",
        "\n",
        "# สร้างวันและเวลาเอง\n",
        "custom_datetime = datetime.datetime(2023, 8, 11, 14, 30)  # 11 สิงหาคม 2023 เวลา 14:30"
      ]
    },
    {
      "cell_type": "code",
      "source": [
        "print(custom_datetime)"
      ],
      "metadata": {
        "colab": {
          "base_uri": "https://localhost:8080/"
        },
        "id": "zNYJHxUjDamQ",
        "outputId": "e9d6748b-32ee-4869-fe9a-328038e6a6fb"
      },
      "execution_count": 3,
      "outputs": [
        {
          "output_type": "stream",
          "name": "stdout",
          "text": [
            "2023-08-11 14:30:00\n"
          ]
        }
      ]
    },
    {
      "cell_type": "code",
      "source": [
        "import datetime\n",
        "\n",
        "now = datetime.datetime.now()\n",
        "\n",
        "# เพิ่มเวลา 30 นาที\n",
        "future_datetime = now + datetime.timedelta(minutes=30)"
      ],
      "metadata": {
        "id": "YsIAc9gyDgAr"
      },
      "execution_count": 4,
      "outputs": []
    },
    {
      "cell_type": "code",
      "source": [
        "print(future_datetime)"
      ],
      "metadata": {
        "colab": {
          "base_uri": "https://localhost:8080/"
        },
        "id": "aNjYAhgmDf4c",
        "outputId": "caf7bbb1-328d-44c3-b153-76cd3517a931"
      },
      "execution_count": 5,
      "outputs": [
        {
          "output_type": "stream",
          "name": "stdout",
          "text": [
            "2023-08-25 11:36:26.729303\n"
          ]
        }
      ]
    },
    {
      "cell_type": "code",
      "source": [
        "import datetime\n",
        "\n",
        "# แปลงข้อความเป็นวันและเวลา\n",
        "date_string = \"2023-08-11 14:30:00\"\n",
        "parsed_datetime = datetime.datetime.strptime(date_string, \"%Y-%m-%d %H:%M:%S\")"
      ],
      "metadata": {
        "id": "wWaTj0tNDf1v"
      },
      "execution_count": 6,
      "outputs": []
    },
    {
      "cell_type": "code",
      "source": [
        "print(parsed_datetime)"
      ],
      "metadata": {
        "colab": {
          "base_uri": "https://localhost:8080/"
        },
        "id": "-GJczWVmDfm-",
        "outputId": "ebd612c5-b6d9-48ae-f40b-aab1fe3f98b1"
      },
      "execution_count": 7,
      "outputs": [
        {
          "output_type": "stream",
          "name": "stdout",
          "text": [
            "2023-08-11 14:30:00\n"
          ]
        }
      ]
    },
    {
      "cell_type": "code",
      "source": [
        "x = 1 ,2 ,3 ,4 ,5 ,6 ,7 ,8 ,9 ,10\n",
        "y = 11 ,12 ,13 ,14 ,15 ,16 ,17 ,18 ,19 ,20\n",
        "z = 21 ,22 ,23 ,24 ,25 ,26 ,27 ,28 ,29 ,30\n",
        "voltage = 111 , 112 ,113 ,114 ,115 ,116 , 117 ,118 ,119 ,120"
      ],
      "metadata": {
        "id": "M7AY2hi-XR8U"
      },
      "execution_count": 1,
      "outputs": []
    },
    {
      "cell_type": "code",
      "source": [
        "while x = '1 ,2 ,3 ,4 ,5 ,6 ,7 ,8 ,9 ,10'"
      ],
      "metadata": {
        "id": "PegaSB0CXR6W",
        "outputId": "50cfd4b5-04dd-483d-e011-b83c8cbc1a85",
        "colab": {
          "base_uri": "https://localhost:8080/",
          "height": 140
        }
      },
      "execution_count": 8,
      "outputs": [
        {
          "output_type": "error",
          "ename": "SyntaxError",
          "evalue": "ignored",
          "traceback": [
            "\u001b[0;36m  File \u001b[0;32m\"<ipython-input-8-142896039add>\"\u001b[0;36m, line \u001b[0;32m1\u001b[0m\n\u001b[0;31m    while x = '1 ,2 ,3 ,4 ,5 ,6 ,7 ,8 ,9 ,10'\u001b[0m\n\u001b[0m          ^\u001b[0m\n\u001b[0;31mSyntaxError\u001b[0m\u001b[0;31m:\u001b[0m invalid syntax. Maybe you meant '==' or ':=' instead of '='?\n"
          ]
        }
      ]
    },
    {
      "cell_type": "code",
      "source": [
        "คำตอบ = 'ต่อ'\n",
        "while คำตอบ == 'ต่อ':\n",
        "    คำตอบ = input('ต่อ หรือ หยุด? ')"
      ],
      "metadata": {
        "id": "zF6y-iHNXR4N",
        "outputId": "5d31189d-5390-4ba4-ddbb-51baa4e28358",
        "colab": {
          "base_uri": "https://localhost:8080/"
        }
      },
      "execution_count": 10,
      "outputs": [
        {
          "name": "stdout",
          "output_type": "stream",
          "text": [
            "ต่อ หรือ หยุด? หยุด\n"
          ]
        }
      ]
    },
    {
      "cell_type": "code",
      "source": [
        "x = '1 ,2 ,3 ,4 ,5 ,6 ,7 ,8 ,9 ,10'\n",
        "while x == '1 ,2 ,3 ,4 ,5 ,6 ,7 ,8 ,9 ,10' :\n",
        "   x = input('1 ,2 ,3 ,4 ,5 ,6 ,7 ,8 ,9 ,10')"
      ],
      "metadata": {
        "id": "xDoehlDOYb9K",
        "outputId": "ecdf010d-b257-4a42-a98b-3048172722ac",
        "colab": {
          "base_uri": "https://localhost:8080/"
        }
      },
      "execution_count": 12,
      "outputs": [
        {
          "name": "stdout",
          "output_type": "stream",
          "text": [
            "1 ,2 ,3 ,4 ,5 ,6 ,7 ,8 ,9 ,1011\n"
          ]
        }
      ]
    },
    {
      "cell_type": "code",
      "source": [
        "import timeit\n",
        "timeit.timeit('\"-\".join(str(n) for n in range(100))', number=10000)"
      ],
      "metadata": {
        "id": "04uFpjqDZlCY",
        "outputId": "fc9f247f-a213-4a43-b366-26d21c0ff697",
        "colab": {
          "base_uri": "https://localhost:8080/"
        }
      },
      "execution_count": 14,
      "outputs": [
        {
          "output_type": "execute_result",
          "data": {
            "text/plain": [
              "0.19615249100002075"
            ]
          },
          "metadata": {},
          "execution_count": 14
        }
      ]
    },
    {
      "cell_type": "code",
      "source": [
        "import time\n",
        "\n",
        "# seconds passed since epoch\n",
        "seconds = 1672215379.5045543\n",
        "\n",
        "# convert the time in seconds since the epoch to a readable format\n",
        "local_time = time.ctime(seconds)\n",
        "\n",
        "print(\"Local time:\", local_time)"
      ],
      "metadata": {
        "id": "MuWj0jweZtXt",
        "outputId": "60f9a4c5-5ea8-4043-bfd0-8a923cdfb0d3",
        "colab": {
          "base_uri": "https://localhost:8080/"
        }
      },
      "execution_count": 15,
      "outputs": [
        {
          "output_type": "stream",
          "name": "stdout",
          "text": [
            "Local time: Wed Dec 28 08:16:19 2022\n"
          ]
        }
      ]
    },
    {
      "cell_type": "code",
      "source": [
        "import time\n",
        "\n",
        "named_tuple = time.localtime() # get struct_time\n",
        "time_string = time.strftime(\"%m/%d/%Y, %H:%M:%S\", named_tuple)\n",
        "\n",
        "print(time_string)"
      ],
      "metadata": {
        "id": "WUZZQbi9Z5HZ",
        "outputId": "eb23ec8a-0fa9-45c9-9a56-f1a4f157e7e2",
        "colab": {
          "base_uri": "https://localhost:8080/"
        }
      },
      "execution_count": 17,
      "outputs": [
        {
          "output_type": "stream",
          "name": "stdout",
          "text": [
            "08/25/2023, 11:15:43\n"
          ]
        }
      ]
    },
    {
      "cell_type": "code",
      "source": [
        "import time\n",
        "\n",
        "# ตัวแปรเพื่อเก็บเวลาเริ่มต้น\n",
        "start_time = time.time()\n",
        "\n",
        "# กำหนดเวลาที่ต้องการให้โปรแกรมทำงาน (ในวินาที)\n",
        "target_duration = 60  # ยกตัวอย่างสำหรับการทำงานเป็นเวลา 60 วินาที\n",
        "\n",
        "# เริ่ม while loop\n",
        "while True:\n",
        "    # คำสั่งที่ต้องการให้โปรแกรมทำตามรอบ\n",
        "\n",
        "    # คำสั่งเช็คเงื่อนไขเพื่อหยุดการทำงานเมื่อถึงเวลาที่กำหนด\n",
        "    if time.time() - start_time >= target_duration:\n",
        "        break\n",
        "\n",
        "\n",
        "\n",
        "# สิ้นสุด while loop และโปรแกรม\n",
        "print(\"การทำงาน real-time เสร็จสิ้น\")"
      ],
      "metadata": {
        "id": "wawooZGnaOLP",
        "outputId": "61b51cbf-6145-4fd2-ce2c-76aeaa3ad074",
        "colab": {
          "base_uri": "https://localhost:8080/"
        }
      },
      "execution_count": 1,
      "outputs": [
        {
          "output_type": "stream",
          "name": "stdout",
          "text": [
            "การทำงาน real-time เสร็จสิ้น\n"
          ]
        }
      ]
    },
    {
      "cell_type": "code",
      "source": [
        "import time\n",
        "\n",
        "# เริ่มต้นเวลา\n",
        "start_time = time.time()\n",
        "\n",
        "# กำหนดรายการข้อความ\n",
        "messages = [\"1 เวลา\", \"2 เวลา\", \"3 เวลา\", \"4 เวลา\"]\n",
        "\n",
        "# วนลูปผ่านรายการข้อความ\n",
        "for message in messages:\n",
        "    # แสดงข้อความ\n",
        "    print(f\"{message} {time.strftime('%H:%M', time.localtime())}\")\n",
        "\n",
        "    # หน่วงเวลา 1 นาที\n",
        "    time.sleep(1)  # 60 วินาที = 1 นาที\n",
        "\n",
        "# สิ้นสุดโปรแกรม\n",
        "print(\"เสร็จสิ้นการแสดงผล real-time\")"
      ],
      "metadata": {
        "id": "3GoAawAzaz5m",
        "outputId": "73b87cc5-8339-475c-d7b0-ff9527d79357",
        "colab": {
          "base_uri": "https://localhost:8080/"
        }
      },
      "execution_count": 3,
      "outputs": [
        {
          "output_type": "stream",
          "name": "stdout",
          "text": [
            "1 เวลา 11:19\n",
            "2 เวลา 11:19\n",
            "3 เวลา 11:19\n",
            "4 เวลา 11:19\n",
            "เสร็จสิ้นการแสดงผล real-time\n"
          ]
        }
      ]
    },
    {
      "cell_type": "code",
      "source": [
        "import datetime\n",
        "import time\n",
        "\n",
        "# วนลูปเพื่อแสดงผลแต่ละข้อความพร้อมกับเวลาปัจจุบัน\n",
        "for i in range(1, 5):\n",
        "    current_time = datetime.datetime.now().strftime('%H:%M:%S')\n",
        "    print(f\"{i} เวลา {current_time}\")\n",
        "\n",
        "    # หน่วงเวลา 1 วินาที\n",
        "    time.sleep(1)\n",
        "\n",
        "# สิ้นสุดโปรแกรม\n",
        "print(\"เสร็จสิ้นการแสดงผล real-time\")"
      ],
      "metadata": {
        "id": "zfq_URbYbGsp",
        "outputId": "a5389549-6b1b-49a4-fc64-8449847f767d",
        "colab": {
          "base_uri": "https://localhost:8080/"
        }
      },
      "execution_count": 4,
      "outputs": [
        {
          "output_type": "stream",
          "name": "stdout",
          "text": [
            "1 เวลา 11:20:46\n",
            "2 เวลา 11:20:47\n",
            "3 เวลา 11:20:48\n",
            "4 เวลา 11:20:49\n",
            "เสร็จสิ้นการแสดงผล real-time\n"
          ]
        }
      ]
    },
    {
      "cell_type": "code",
      "source": [
        "import datetime\n",
        "import time\n",
        "\n",
        "# เริ่มต้นเวลา\n",
        "start_time = datetime.datetime.now()\n",
        "\n",
        "# ใช้ตัวแปรเพื่อเก็บค่าเริ่มต้นของ i\n",
        "i = 1\n",
        "\n",
        "# วนลูปแสดงผลแบบ real-time\n",
        "while True:\n",
        "    # รับเวลาปัจจุบัน\n",
        "    current_time = datetime.datetime.now()\n",
        "\n",
        "    # แสดงผล\n",
        "    print(f\"{i} เวลา {current_time.strftime('%H:%M')}\")\n",
        "\n",
        "    # เพิ่มค่า i\n",
        "    i += 1\n",
        "\n",
        "    # หน่วงเวลา 1 นาที\n",
        "    time.sleep(60)\n",
        "\n",
        "# สิ้นสุดโปรแกรม\n",
        "print(\"เสร็จสิ้นการแสดงผล real-time\")"
      ],
      "metadata": {
        "id": "M9hLWdWZbQqY",
        "outputId": "43b06dd5-56b7-4163-b753-f585d59a058b",
        "colab": {
          "base_uri": "https://localhost:8080/",
          "height": 297
        }
      },
      "execution_count": 6,
      "outputs": [
        {
          "output_type": "stream",
          "name": "stdout",
          "text": [
            "1 เวลา 11:21\n",
            "2 เวลา 11:22\n",
            "3 เวลา 11:23\n"
          ]
        },
        {
          "output_type": "error",
          "ename": "KeyboardInterrupt",
          "evalue": "ignored",
          "traceback": [
            "\u001b[0;31m---------------------------------------------------------------------------\u001b[0m",
            "\u001b[0;31mKeyboardInterrupt\u001b[0m                         Traceback (most recent call last)",
            "\u001b[0;32m<ipython-input-6-d856e7b4fdbc>\u001b[0m in \u001b[0;36m<cell line: 11>\u001b[0;34m()\u001b[0m\n\u001b[1;32m     20\u001b[0m \u001b[0;34m\u001b[0m\u001b[0m\n\u001b[1;32m     21\u001b[0m     \u001b[0;31m# หน่วงเวลา 1 นาที\u001b[0m\u001b[0;34m\u001b[0m\u001b[0;34m\u001b[0m\u001b[0m\n\u001b[0;32m---> 22\u001b[0;31m     \u001b[0mtime\u001b[0m\u001b[0;34m.\u001b[0m\u001b[0msleep\u001b[0m\u001b[0;34m(\u001b[0m\u001b[0;36m60\u001b[0m\u001b[0;34m)\u001b[0m\u001b[0;34m\u001b[0m\u001b[0;34m\u001b[0m\u001b[0m\n\u001b[0m\u001b[1;32m     23\u001b[0m \u001b[0;34m\u001b[0m\u001b[0m\n\u001b[1;32m     24\u001b[0m \u001b[0;31m# สิ้นสุดโปรแกรม\u001b[0m\u001b[0;34m\u001b[0m\u001b[0;34m\u001b[0m\u001b[0m\n",
            "\u001b[0;31mKeyboardInterrupt\u001b[0m: "
          ]
        }
      ]
    },
    {
      "cell_type": "code",
      "source": [
        "import datetime\n",
        "import time\n",
        "import pytz\n",
        "\n",
        "# กำหนด timezone ที่ต้องการ (เช่น 'Asia/Bangkok')\n",
        "timezone = pytz.timezone('Asia/Bangkok')\n",
        "\n",
        "# ใช้ timezone ในการรับเวลาปัจจุบัน\n",
        "current_time = datetime.datetime.now(timezone)\n",
        "\n",
        "# แสดงผลเวลา\n",
        "print(f\"{i} เวลา {current_time.strftime('%H:%M')}\")"
      ],
      "metadata": {
        "id": "QCk9XsgCbjur",
        "outputId": "191d79cf-b5e3-4703-d309-dd52c3e81a1c",
        "colab": {
          "base_uri": "https://localhost:8080/"
        }
      },
      "execution_count": 7,
      "outputs": [
        {
          "output_type": "stream",
          "name": "stdout",
          "text": [
            "4 เวลา 18:24\n"
          ]
        }
      ]
    },
    {
      "cell_type": "code",
      "source": [
        "import datetime\n",
        "import time\n",
        "import pytz\n",
        "\n",
        "# กำหนด timezone ที่ต้องการ (เช่น 'Asia/Bangkok')\n",
        "timezone = pytz.timezone('Asia/Bangkok')\n",
        "\n",
        "\n",
        "# ใช้ตัวแปรเพื่อเก็บค่าเริ่มต้นของ i\n",
        "i = 1\n",
        "\n",
        "# วนลูปแสดงผลแบบ real-time\n",
        "while True:\n",
        "    # รับเวลาปัจจุบัน\n",
        "    current_time = datetime.datetime.now(timezone)\n",
        "\n",
        "    # แสดงผลเวลาในรูปแบบที่ต้องการ\n",
        "    formatted_time = current_time.strftime('%H:%M')\n",
        "    print(f\"{i} เวลา {formatted_time}\")\n",
        "\n",
        "    # เพิ่มค่า i\n",
        "    i += 1\n",
        "\n",
        "    # หน่วงเวลา 1 วินาที\n",
        "    time.sleep(1)\n",
        "\n",
        "    # ตรวจสอบว่าเวลาปัจจุบันครบ 60 นาที\n",
        "    if (current_time - start_time).total_seconds() >= 60:\n",
        "        break\n",
        "\n",
        "# สิ้นสุดโปรแกรม\n",
        "print(\"เสร็จสิ้นการแสดงผล real-time\")"
      ],
      "metadata": {
        "id": "3bz5JrlYb5vM",
        "outputId": "bba4d121-a5c2-427a-a322-ee2288406a2d",
        "colab": {
          "base_uri": "https://localhost:8080/",
          "height": 262
        }
      },
      "execution_count": 14,
      "outputs": [
        {
          "output_type": "stream",
          "name": "stdout",
          "text": [
            "1 เวลา 18:27\n"
          ]
        },
        {
          "output_type": "error",
          "ename": "TypeError",
          "evalue": "ignored",
          "traceback": [
            "\u001b[0;31m---------------------------------------------------------------------------\u001b[0m",
            "\u001b[0;31mTypeError\u001b[0m                                 Traceback (most recent call last)",
            "\u001b[0;32m<ipython-input-14-0d5fce46393c>\u001b[0m in \u001b[0;36m<cell line: 13>\u001b[0;34m()\u001b[0m\n\u001b[1;32m     26\u001b[0m \u001b[0;34m\u001b[0m\u001b[0m\n\u001b[1;32m     27\u001b[0m     \u001b[0;31m# ตรวจสอบว่าเวลาปัจจุบันครบ 60 นาที\u001b[0m\u001b[0;34m\u001b[0m\u001b[0;34m\u001b[0m\u001b[0m\n\u001b[0;32m---> 28\u001b[0;31m     \u001b[0;32mif\u001b[0m \u001b[0;34m(\u001b[0m\u001b[0mcurrent_time\u001b[0m \u001b[0;34m-\u001b[0m \u001b[0mstart_time\u001b[0m\u001b[0;34m)\u001b[0m\u001b[0;34m.\u001b[0m\u001b[0mtotal_seconds\u001b[0m\u001b[0;34m(\u001b[0m\u001b[0;34m)\u001b[0m \u001b[0;34m>=\u001b[0m \u001b[0;36m60\u001b[0m\u001b[0;34m:\u001b[0m\u001b[0;34m\u001b[0m\u001b[0;34m\u001b[0m\u001b[0m\n\u001b[0m\u001b[1;32m     29\u001b[0m         \u001b[0;32mbreak\u001b[0m\u001b[0;34m\u001b[0m\u001b[0;34m\u001b[0m\u001b[0m\n\u001b[1;32m     30\u001b[0m \u001b[0;34m\u001b[0m\u001b[0m\n",
            "\u001b[0;31mTypeError\u001b[0m: can't subtract offset-naive and offset-aware datetimes"
          ]
        }
      ]
    },
    {
      "cell_type": "code",
      "source": [
        "import datetime\n",
        "import time\n",
        "import pytz\n",
        "\n",
        "# กำหนด timezone ที่ต้องการ (เช่น 'Asia/Bangkok')\n",
        "timezone = pytz.timezone('Asia/Bangkok')\n",
        "\n",
        "# ใช้ตัวแปรเพื่อเก็บค่าเริ่มต้นของ i\n",
        "i = 1\n",
        "\n",
        "# เวลาเริ่มต้น\n",
        "start_time = datetime.datetime.now(timezone)\n",
        "\n",
        "# วนลูปแสดงผลแบบ real-time\n",
        "while True:\n",
        "    # รับเวลาปัจจุบัน\n",
        "    current_time = datetime.datetime.now(timezone)\n",
        "\n",
        "    # แสดงผลเวลาในรูปแบบที่ต้องการ\n",
        "    formatted_time = current_time.strftime('%H:%M')\n",
        "    print(f\"{i} เวลา {formatted_time}\")\n",
        "\n",
        "    # เพิ่มค่า i\n",
        "    i += 1\n",
        "\n",
        "    # หน่วงเวลา 1 วินาที\n",
        "    time.sleep(1)\n",
        "\n",
        "    # ตรวจสอบว่าเวลาผ่านไปครบ 3 นาที (180 วินาที)\n",
        "    if (current_time - start_time).total_seconds() >= 180:\n",
        "        break\n",
        "\n",
        "# สิ้นสุดโปรแกรม\n",
        "print(\"เสร็จสิ้นการแสดงผล real-time\")"
      ],
      "metadata": {
        "id": "BWFFuIU4dZBP",
        "outputId": "1974e8e7-1407-487a-8f95-ed66640424bd",
        "colab": {
          "base_uri": "https://localhost:8080/"
        }
      },
      "execution_count": 20,
      "outputs": [
        {
          "output_type": "stream",
          "name": "stdout",
          "text": [
            "1 เวลา 18:30\n",
            "2 เวลา 18:30\n",
            "3 เวลา 18:30\n",
            "4 เวลา 18:30\n",
            "5 เวลา 18:30\n",
            "6 เวลา 18:30\n",
            "7 เวลา 18:30\n",
            "8 เวลา 18:30\n",
            "9 เวลา 18:30\n",
            "10 เวลา 18:30\n",
            "11 เวลา 18:30\n",
            "12 เวลา 18:30\n",
            "13 เวลา 18:30\n",
            "14 เวลา 18:30\n",
            "15 เวลา 18:30\n",
            "16 เวลา 18:30\n",
            "17 เวลา 18:31\n",
            "18 เวลา 18:31\n",
            "19 เวลา 18:31\n",
            "20 เวลา 18:31\n",
            "21 เวลา 18:31\n",
            "22 เวลา 18:31\n",
            "23 เวลา 18:31\n",
            "24 เวลา 18:31\n",
            "25 เวลา 18:31\n",
            "26 เวลา 18:31\n",
            "27 เวลา 18:31\n",
            "28 เวลา 18:31\n",
            "29 เวลา 18:31\n",
            "30 เวลา 18:31\n",
            "31 เวลา 18:31\n",
            "32 เวลา 18:31\n",
            "33 เวลา 18:31\n",
            "34 เวลา 18:31\n",
            "35 เวลา 18:31\n",
            "36 เวลา 18:31\n",
            "37 เวลา 18:31\n",
            "38 เวลา 18:31\n",
            "39 เวลา 18:31\n",
            "40 เวลา 18:31\n",
            "41 เวลา 18:31\n",
            "42 เวลา 18:31\n",
            "43 เวลา 18:31\n",
            "44 เวลา 18:31\n",
            "45 เวลา 18:31\n",
            "46 เวลา 18:31\n",
            "47 เวลา 18:31\n",
            "48 เวลา 18:31\n",
            "49 เวลา 18:31\n",
            "50 เวลา 18:31\n",
            "51 เวลา 18:31\n",
            "52 เวลา 18:31\n",
            "53 เวลา 18:31\n",
            "54 เวลา 18:31\n",
            "55 เวลา 18:31\n",
            "56 เวลา 18:31\n",
            "57 เวลา 18:31\n",
            "58 เวลา 18:31\n",
            "59 เวลา 18:31\n",
            "60 เวลา 18:31\n",
            "61 เวลา 18:31\n",
            "62 เวลา 18:31\n",
            "63 เวลา 18:31\n",
            "64 เวลา 18:31\n",
            "65 เวลา 18:31\n",
            "66 เวลา 18:31\n",
            "67 เวลา 18:31\n",
            "68 เวลา 18:31\n",
            "69 เวลา 18:31\n",
            "70 เวลา 18:31\n",
            "71 เวลา 18:31\n",
            "72 เวลา 18:31\n",
            "73 เวลา 18:31\n",
            "74 เวลา 18:31\n",
            "75 เวลา 18:31\n",
            "76 เวลา 18:31\n",
            "77 เวลา 18:32\n",
            "78 เวลา 18:32\n",
            "79 เวลา 18:32\n",
            "80 เวลา 18:32\n",
            "81 เวลา 18:32\n",
            "82 เวลา 18:32\n",
            "83 เวลา 18:32\n",
            "84 เวลา 18:32\n",
            "85 เวลา 18:32\n",
            "86 เวลา 18:32\n",
            "87 เวลา 18:32\n",
            "88 เวลา 18:32\n",
            "89 เวลา 18:32\n",
            "90 เวลา 18:32\n",
            "91 เวลา 18:32\n",
            "92 เวลา 18:32\n",
            "93 เวลา 18:32\n",
            "94 เวลา 18:32\n",
            "95 เวลา 18:32\n",
            "96 เวลา 18:32\n",
            "97 เวลา 18:32\n",
            "98 เวลา 18:32\n",
            "99 เวลา 18:32\n",
            "100 เวลา 18:32\n",
            "101 เวลา 18:32\n",
            "102 เวลา 18:32\n",
            "103 เวลา 18:32\n",
            "104 เวลา 18:32\n",
            "105 เวลา 18:32\n",
            "106 เวลา 18:32\n",
            "107 เวลา 18:32\n",
            "108 เวลา 18:32\n",
            "109 เวลา 18:32\n",
            "110 เวลา 18:32\n",
            "111 เวลา 18:32\n",
            "112 เวลา 18:32\n",
            "113 เวลา 18:32\n",
            "114 เวลา 18:32\n",
            "115 เวลา 18:32\n",
            "116 เวลา 18:32\n",
            "117 เวลา 18:32\n",
            "118 เวลา 18:32\n",
            "119 เวลา 18:32\n",
            "120 เวลา 18:32\n",
            "121 เวลา 18:32\n",
            "122 เวลา 18:32\n",
            "123 เวลา 18:32\n",
            "124 เวลา 18:32\n",
            "125 เวลา 18:32\n",
            "126 เวลา 18:32\n",
            "127 เวลา 18:32\n",
            "128 เวลา 18:32\n",
            "129 เวลา 18:32\n",
            "130 เวลา 18:32\n",
            "131 เวลา 18:32\n",
            "132 เวลา 18:32\n",
            "133 เวลา 18:32\n",
            "134 เวลา 18:32\n",
            "135 เวลา 18:32\n",
            "136 เวลา 18:32\n",
            "137 เวลา 18:33\n",
            "138 เวลา 18:33\n",
            "139 เวลา 18:33\n",
            "140 เวลา 18:33\n",
            "141 เวลา 18:33\n",
            "142 เวลา 18:33\n",
            "143 เวลา 18:33\n",
            "144 เวลา 18:33\n",
            "145 เวลา 18:33\n",
            "146 เวลา 18:33\n",
            "147 เวลา 18:33\n",
            "148 เวลา 18:33\n",
            "149 เวลา 18:33\n",
            "150 เวลา 18:33\n",
            "151 เวลา 18:33\n",
            "152 เวลา 18:33\n",
            "153 เวลา 18:33\n",
            "154 เวลา 18:33\n",
            "155 เวลา 18:33\n",
            "156 เวลา 18:33\n",
            "157 เวลา 18:33\n",
            "158 เวลา 18:33\n",
            "159 เวลา 18:33\n",
            "160 เวลา 18:33\n",
            "161 เวลา 18:33\n",
            "162 เวลา 18:33\n",
            "163 เวลา 18:33\n",
            "164 เวลา 18:33\n",
            "165 เวลา 18:33\n",
            "166 เวลา 18:33\n",
            "167 เวลา 18:33\n",
            "168 เวลา 18:33\n",
            "169 เวลา 18:33\n",
            "170 เวลา 18:33\n",
            "171 เวลา 18:33\n",
            "172 เวลา 18:33\n",
            "173 เวลา 18:33\n",
            "174 เวลา 18:33\n",
            "175 เวลา 18:33\n",
            "176 เวลา 18:33\n",
            "177 เวลา 18:33\n",
            "178 เวลา 18:33\n",
            "179 เวลา 18:33\n",
            "180 เวลา 18:33\n",
            "181 เวลา 18:33\n",
            "เสร็จสิ้นการแสดงผล real-time\n"
          ]
        }
      ]
    }
  ]
}